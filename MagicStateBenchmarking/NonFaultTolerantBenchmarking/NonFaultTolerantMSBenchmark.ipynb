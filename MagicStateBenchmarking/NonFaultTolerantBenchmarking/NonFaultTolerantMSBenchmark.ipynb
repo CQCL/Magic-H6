{
 "cells": [
  {
   "cell_type": "code",
   "execution_count": 7,
   "id": "673e3068-a682-49d3-80db-3de0ba9785f4",
   "metadata": {},
   "outputs": [],
   "source": [
    "import json\n",
    "import math"
   ]
  },
  {
   "cell_type": "code",
   "execution_count": 8,
   "id": "435d3987-4730-49ce-86bf-60a14bc6bff3",
   "metadata": {},
   "outputs": [],
   "source": [
    "qasm = '''\n",
    "\n",
    "OPENQASM 2.0;\n",
    "include \"hqslib1.inc\";\n",
    "qreg q0[6];\n",
    "qreg q1[6];\n",
    "\n",
    "\n",
    "creg meas0[6];\n",
    "creg meas1[6];\n",
    "\n",
    "\n",
    "creg hcheck[2];\n",
    "creg hcheck1[2];\n",
    "\n",
    "creg scratch[6];\n",
    "\n",
    "creg twirl[2];\n",
    "\n",
    "\n",
    "twirl = 0;\n",
    "\n",
    "// Create first magic state\n",
    "ry(pi/4) q0[0];\n",
    "h q0[1];\n",
    "sdg q0[1];\n",
    "\n",
    "\n",
    "h q0[2];\n",
    "h q0[4];\n",
    "cx q0[2], q0[3];\n",
    "cx q0[4], q0[5];\n",
    "cx q0[2], q0[0];\n",
    "cx q0[3], q0[1];\n",
    "cx q0[0], q0[4];\n",
    "cx q0[1], q0[5];\n",
    "cx q0[4], q0[2];\n",
    "cx q0[5], q0[3];\n",
    "\n",
    "\n",
    "\n",
    "\n",
    "\n",
    "\n",
    "\n",
    "// Create second magic state\n",
    "ry(pi/4) q1[0];\n",
    "h q1[1];\n",
    "sdg q1[1];\n",
    "\n",
    "h q1[2];\n",
    "h q1[4];\n",
    "cx q1[2], q1[3];\n",
    "cx q1[4], q1[5];\n",
    "cx q1[2], q1[0];\n",
    "cx q1[3], q1[1];\n",
    "cx q1[0], q1[4];\n",
    "cx q1[1], q1[5];\n",
    "cx q1[4], q1[2];\n",
    "cx q1[5], q1[3];\n",
    "\n",
    "\n",
    "\n",
    "// Twirl here\n",
    "if(twirl[0] == 1)h q0;\n",
    "if(twirl[0] == 1)x q0[1];\n",
    "if(twirl[0] == 1)x q0[3];\n",
    "if(twirl[0] == 1)x q0[5];\n",
    "\n",
    "\n",
    "// Twirl here\n",
    "if(twirl[1] == 1)h q1;\n",
    "if(twirl[1] == 1)x q1[1];\n",
    "if(twirl[1] == 1)x q1[3];\n",
    "if(twirl[1] == 1)x q1[5];\n",
    "\n",
    "\n",
    "\n",
    "cy q1, q0;\n",
    "sdg q1;\n",
    "h q1;\n",
    "measure q1 -> meas1;\n",
    "scratch[0] = meas1[0]^meas1[2];\n",
    "scratch[0] = scratch[0]^meas1[4];\n",
    "\n",
    "if(scratch[0] == 0) ry(-pi/2) q0;\n",
    "measure q0 -> meas0;\n",
    "\n",
    "\n",
    "'''\n",
    "qasms = []\n",
    "for j in range(0,4):\n",
    "    qasms.append(qasm.replace('twirl = 0;', 'twirl = %d;'%j))"
   ]
  },
  {
   "cell_type": "code",
   "execution_count": 9,
   "id": "4fda9f46-6e89-4075-a172-2d870c124fea",
   "metadata": {},
   "outputs": [],
   "source": [
    "with open(\"NFTMagicStateProtcol.json\", \"r\") as file:\n",
    "    jobs = json.load(file)"
   ]
  },
  {
   "cell_type": "code",
   "execution_count": 10,
   "id": "b8d0d592-cc7e-4893-a898-5248bb6b5e2e",
   "metadata": {},
   "outputs": [],
   "source": [
    "def checks(r,i):\n",
    "    meas0 = r['meas0'][i]\n",
    "    if (int(meas0[5]) + int(meas0[4]) + int(meas0[3]) + int(meas0[2]))%2 == 1:\n",
    "        return False\n",
    "    if (int(meas0[3]) + int(meas0[2]) + int(meas0[1]) + int(meas0[0]))%2 == 1:\n",
    "        return False\n",
    "\n",
    "    meas0 = r['meas1'][i]\n",
    "    if (int(meas0[5]) + int(meas0[4]) + int(meas0[3]) + int(meas0[2]))%2 == 1:\n",
    "        return False\n",
    "    if (int(meas0[3]) + int(meas0[2]) + int(meas0[1]) + int(meas0[0]))%2 == 1:\n",
    "        return False\n",
    "    return True\n",
    "\n",
    "def success(r,i):\n",
    "    meas0 = r['meas0'][i]\n",
    "    return (int(meas0[5]) + int(meas0[3]) + int(meas0[1]))%2 == 0"
   ]
  },
  {
   "cell_type": "code",
   "execution_count": 11,
   "id": "669fb53b-2585-46d8-8736-9c7af4c653b0",
   "metadata": {},
   "outputs": [
    {
     "name": "stdout",
     "output_type": "stream",
     "text": [
      "0.0013199142055766375\n",
      "0.90915\n",
      "0.00019051320547422066\n",
      "48 36366 40000\n"
     ]
    }
   ],
   "source": [
    "fails = 0\n",
    "totals = 0\n",
    "shots = 0\n",
    "for j in jobs:\n",
    "    r = j['results']\n",
    "    for i in range(0, len(r['meas0'])):\n",
    "        shots += 1\n",
    "        if (checks(r,i)):\n",
    "            totals += 1\n",
    "            if (not success(r,i)):\n",
    "                fails += 1\n",
    "print(fails/totals)\n",
    "print(totals/shots)\n",
    "import math\n",
    "print(math.sqrt(fails)/totals)\n",
    "print(fails, totals, shots)"
   ]
  },
  {
   "cell_type": "markdown",
   "id": "2afb10ed-c0fe-4ccb-b5a4-566d5c47ee04",
   "metadata": {},
   "source": [
    "For the percentage of the time that the logical magic states have a non-trivial syndrome, we use the estimate from the fault-tolerant benchmarking experiment, in which all syndromes were extracted"
   ]
  },
  {
   "cell_type": "code",
   "execution_count": 12,
   "id": "caa2d5d0-066f-40ca-8e95-bcd264d98332",
   "metadata": {},
   "outputs": [],
   "source": [
    "s = 1 - 0.926125"
   ]
  },
  {
   "cell_type": "code",
   "execution_count": 13,
   "id": "5b880715-a920-42f3-981c-dcadde8a7b88",
   "metadata": {},
   "outputs": [
    {
     "name": "stdout",
     "output_type": "stream",
     "text": [
      "protocol failure rate confidence interval: ( 0.0011427486446361102 , 0.0015245046344355753 )\n"
     ]
    }
   ],
   "source": [
    "p = fails/totals\n",
    "n = totals\n",
    "wilson = (1/(1 + 1/n))*(1/(2*n))*(math.sqrt(4*n*p*(1-p) + 1))\n",
    "wilson_mean = 1/(1+ (1/n))*(p + (1/(2*n)))\n",
    "print('protocol failure rate confidence interval: (',  wilson_mean - wilson, ',',  wilson_mean + wilson, ')',)"
   ]
  },
  {
   "cell_type": "code",
   "execution_count": 14,
   "id": "559c88c4-8c9f-4d84-ae8a-8be267735c4e",
   "metadata": {},
   "outputs": [
    {
     "name": "stdout",
     "output_type": "stream",
     "text": [
      "magic state infidelity: 0.0007126004619120731\n",
      "magic state infidelity confidence interval: ( 0.000616951623504446 , 0.0008230555456528953 )\n"
     ]
    }
   ],
   "source": [
    "magic_state_fidelity = p/(2*(1-s))\n",
    "print('magic state infidelity:', magic_state_fidelity)\n",
    "print('magic state infidelity confidence interval: (', (wilson_mean - wilson)/(2*(1-s)), ',',  (wilson_mean + wilson)/(2*(1-s)), ')',)"
   ]
  },
  {
   "cell_type": "code",
   "execution_count": null,
   "id": "959ba2b1-56a0-4eb4-8572-f6c64b317cac",
   "metadata": {},
   "outputs": [],
   "source": []
  }
 ],
 "metadata": {
  "kernelspec": {
   "display_name": "Python 3 (ipykernel)",
   "language": "python",
   "name": "python3"
  },
  "language_info": {
   "codemirror_mode": {
    "name": "ipython",
    "version": 3
   },
   "file_extension": ".py",
   "mimetype": "text/x-python",
   "name": "python",
   "nbconvert_exporter": "python",
   "pygments_lexer": "ipython3",
   "version": "3.12.2"
  }
 },
 "nbformat": 4,
 "nbformat_minor": 5
}
