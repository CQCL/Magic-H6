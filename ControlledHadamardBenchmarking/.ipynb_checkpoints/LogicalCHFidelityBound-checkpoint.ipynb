{
 "cells": [
  {
   "cell_type": "code",
   "execution_count": 1,
   "id": "93eed35b-e118-45b9-957f-a0c0ddec9b36",
   "metadata": {},
   "outputs": [],
   "source": [
    "# Copyright 2025 Quantinuum (www.quantinuum.com)\n",
    "#\n",
    "# Licensed under the Apache License, Version 2.0 (the \"License\");\n",
    "# you may not use this file except in compliance with the License.\n",
    "# You may obtain a copy of the License at\n",
    "#\n",
    "#     http://www.apache.org/licenses/LICENSE-2.0\n",
    "#\n",
    "# Unless required by applicable law or agreed to in writing, software\n",
    "# distributed under the License is distributed on an \"AS IS\" BASIS,\n",
    "# WITHOUT WARRANTIES OR CONDITIONS OF ANY KIND, either express or implied.\n",
    "# See the License for the specific language governing permissions and\n",
    "# limitations under the License."
   ]
  },
  {
   "cell_type": "markdown",
   "id": "ef1d50cb-3771-4a9a-a730-cbf6d359255c",
   "metadata": {},
   "source": [
    "### Use CVXPY to lower bound process fidelity subject to known output state fidelities"
   ]
  },
  {
   "cell_type": "code",
   "execution_count": 2,
   "id": "6954cbc0-13c7-4b8f-9c05-03d4a38eaf9d",
   "metadata": {},
   "outputs": [],
   "source": [
    "import cvxpy as cp\n",
    "import numpy as np"
   ]
  },
  {
   "cell_type": "code",
   "execution_count": 3,
   "id": "bae50251-c8bd-4862-8626-6c085d0015f2",
   "metadata": {},
   "outputs": [
    {
     "name": "stdout",
     "output_type": "stream",
     "text": [
      "Minimum process fidelity is  0.9997078\n"
     ]
    }
   ],
   "source": [
    "# Choi matrix of target gate\n",
    "d = 4\n",
    "U_tar = np.array([[1,0,0,0],[0,1,0,0],[0,0,np.sqrt(1/2),np.sqrt(1/2)],[0,0,np.sqrt(1/2),-np.sqrt(1/2)]]) # CH\n",
    "phi_ME = np.zeros(d**2)\n",
    "for j in range(d):\n",
    "    phi_ME = phi_ME + np.kron(np.eye(1,d,j), np.eye(1,d,j))/np.sqrt(d)\n",
    "rho_ME = np.outer(phi_ME, np.conj(phi_ME))\n",
    "X_tar = np.kron(np.identity(d), U_tar) @ rho_ME @ np.kron(np.identity(d), np.conj(U_tar).T)\n",
    "\n",
    "# basis states\n",
    "state_dict = {'0':np.array([1,0]), '1':np.array([0,1]), '+':np.array([1,1])/np.sqrt(2), '-':np.array([1,-1])/np.sqrt(2), 'H':np.array([np.cos(np.pi/8), np.sin(np.pi/8)]), 'M':np.array([-np.sin(np.pi/8), np.cos(np.pi/8)]), 'i':np.array([1,1j])/np.sqrt(2), 'j':np.array([1,-1j])/np.sqrt(2)}\n",
    "\n",
    "A = [] # constraint matrices\n",
    "b = [] # constraint values\n",
    "\n",
    "# example of output state fidelities\n",
    "fid_dict = {\n",
    "    '00': 1 - 0.00026232948583420777,\n",
    "    '01': 1,\n",
    "    '10': 1 - 0.00012769761205465457,\n",
    "    '11': 1 - 0.00012926577042399174,\n",
    "    '+H': 1,\n",
    "    '+M': 1 - 0.000445632798573975,\n",
    "    '-H': 1,\n",
    "    '-M': 1 - 0.0002976633427593392,\n",
    "    '1+':1 - 0.0003853069612124326,\n",
    "    '0-': 1,\n",
    "    '0+': 1,\n",
    "    '1-': 1 - 0.00013147515119642388,\n",
    "}\n",
    "\n",
    "povm_dict = {}\n",
    "state_dict['0']\n",
    "\n",
    "\n",
    "for state in fid_dict:\n",
    "    \n",
    "    # ZZ or XX basis input states\n",
    "    psi = np.kron(state_dict[state[0]], state_dict[state[1]])\n",
    "    rho = np.outer(psi, np.conj(psi))\n",
    "\n",
    "    M = U_tar @ rho @ np.conj(U_tar.T) # measurement operator\n",
    "    A.append(np.kron(rho.T,M))\n",
    "    b.append(fid_dict[state])\n",
    "        \n",
    "\n",
    "# Define and solve the CVXPY problem.\n",
    "# Create a symmetric matrix variable.\n",
    "X = cp.Variable((d**2,d**2), hermitian=True)\n",
    "# The operator >> denotes matrix inequality.\n",
    "constraints = [X >> 0]\n",
    "\n",
    "# constraints on output state fidelities\n",
    "constraints += [d*cp.real(cp.trace(A[k] @ X)) >= b[k] for k in range(len(A))]\n",
    "\n",
    "# add partial trace constraints\n",
    "for i in range(d):\n",
    "    for j in range(d):\n",
    "        B_ij = np.kron(np.outer(np.eye(1,d,i), np.eye(1,d,j)),np.identity(d))\n",
    "        if i == j:\n",
    "            constraints += [d*cp.real(cp.trace(B_ij @ X)) == 1.0]\n",
    "        else:\n",
    "            constraints += [d*cp.real(cp.trace(B_ij @ X)) == 0.0]\n",
    "\n",
    "\n",
    "#setup and solve problem\n",
    "prob = cp.Problem(cp.Minimize(cp.real(cp.trace(X_tar @ X))),\n",
    "                  constraints)\n",
    "\n",
    "F_lo = prob.solve()\n",
    "\n",
    "# Print result.\n",
    "print(\"Minimum process fidelity is \", round(F_lo,7))"
   ]
  },
  {
   "cell_type": "markdown",
   "id": "3086bc7b-7c68-4873-800b-bb239501f70c",
   "metadata": {},
   "source": [
    "We will estimate the derivative of the process fidelity lower bound (PFLB) with respect to each of the state infidelities. Since we are estimating these derivatives to see how the quantity changes as a function of the measurment uncertainty in order to apply the propagation of uncertainty formula, we do this by approximating the derivative by the difference of the PFLB evaluated at the endpoints of the 68% Wilson confidence interval of each state infidelity, divided by the length of the interval, while keeping the other state fidelities fixed."
   ]
  },
  {
   "cell_type": "code",
   "execution_count": 4,
   "id": "706f7ef5-45d7-4425-8f64-53f2b9a2b521",
   "metadata": {},
   "outputs": [],
   "source": [
    "confidence_interval_upper = {\n",
    "    '00': 1 - 0.00026223774085167375,\n",
    "    '01': 1 - 0,\n",
    "    '10': 1 - 4.87772115445502e-05,\n",
    "    '11': 1 - 4.937622103589302e-05,\n",
    "    '+H': 1 - 0,\n",
    "    '+M': 1 - 0.00025213057913387555,\n",
    "    '-H': 1 - 0,\n",
    "    '-M': 1 - 0.0001488390558566492,\n",
    "    '1+': 1 - 0.00021799730134196556,\n",
    "    '0-': 1 - 0,\n",
    "    '0+': 1 - 0,\n",
    "    '1-': 1 - 5.0220166987163535e-05,\n",
    "}\n",
    "\n",
    "confidence_interval_lower = {\n",
    "    '00': 1 - 0.0005245672266858815,\n",
    "    '01': 1 - 0.0001276976120546546,\n",
    "    '10': 1 - 0.00033426671082521493,\n",
    "    '11': 1 - 0.000338370967796988,\n",
    "    '+H': 1 - 0.00014970059880239523,\n",
    "    '+M': 1 - 0.0007875248493526832,\n",
    "    '-H': 1 - 0.00014530659691950012,\n",
    "    '-M': 1 - 0.0005952085631909699,\n",
    "    '1+': 1 - 0.0006809368196288835 ,\n",
    "    '0-': 1 - 0.00013700506918755994,\n",
    "    '0+': 1 - 0.00013368983957219252,\n",
    "    '1-': 1 - 0.0003441534362729915,\n",
    "}"
   ]
  },
  {
   "cell_type": "markdown",
   "id": "8cc6d0d3-adcc-46ac-b5e5-37230f0341dc",
   "metadata": {},
   "source": [
    "We compute the PFLB derivative with respect to each of the state fidelities"
   ]
  },
  {
   "cell_type": "code",
   "execution_count": 5,
   "id": "9195f289-1763-4472-82ee-78ba80a5bf72",
   "metadata": {},
   "outputs": [],
   "source": [
    "derivative_dict = {}\n",
    "for state in fid_dict.keys():\n",
    "\n",
    "    # First we compute the PFLB at the upper confidence interval endpoint of each state\n",
    "    fid_dict_new = fid_dict.copy()\n",
    "    fid_dict_new[state] = confidence_interval_upper[state]\n",
    "    b = [] # constraint values\n",
    "    for state2 in fid_dict.keys():\n",
    "        b.append(fid_dict_new[state2])\n",
    "            \n",
    "    \n",
    "    # Define and solve the CVXPY problem.\n",
    "    # Create a symmetric matrix variable.\n",
    "    X = cp.Variable((d**2,d**2), hermitian=True)\n",
    "    # The operator >> denotes matrix inequality.\n",
    "    constraints = [X >> 0]\n",
    "    \n",
    "    # constraints on output state fidelities\n",
    "    constraints += [d*cp.real(cp.trace(A[k] @ X)) >= b[k] for k in range(len(A))]\n",
    "    \n",
    "    # add partial trace constraints\n",
    "    for i in range(d):\n",
    "        for j in range(d):\n",
    "            B_ij = np.kron(np.outer(np.eye(1,d,i), np.eye(1,d,j)),np.identity(d))\n",
    "            if i == j:\n",
    "                constraints += [d*cp.real(cp.trace(B_ij @ X)) == 1.0]\n",
    "            else:\n",
    "                constraints += [d*cp.real(cp.trace(B_ij @ X)) == 0.0]\n",
    "    \n",
    "    \n",
    "    \n",
    "    # setup and solve problem\n",
    "    prob = cp.Problem(cp.Minimize(cp.real(cp.trace(X_tar @ X))),\n",
    "                      constraints)\n",
    "    \n",
    "    F_lo_plus = prob.solve()\n",
    "\n",
    "    # Now we compute the PFLB at the lower confidence interval endpoint of each state\n",
    "    fid_dict_new = fid_dict.copy()\n",
    "    fid_dict_new[state] = confidence_interval_lower[state]\n",
    "    b = [] # constraint values\n",
    "    for state2 in fid_dict.keys():\n",
    "        b.append(fid_dict_new[state2])\n",
    "            \n",
    "    \n",
    "    # Define and solve the CVXPY problem.\n",
    "    # Create a symmetric matrix variable.\n",
    "    X = cp.Variable((d**2,d**2), hermitian=True)\n",
    "    # The operator >> denotes matrix inequality.\n",
    "    constraints = [X >> 0]\n",
    "    \n",
    "    # constraints on output state fidelities\n",
    "    constraints += [d*cp.real(cp.trace(A[k] @ X)) >= b[k] for k in range(len(A))]\n",
    "    \n",
    "    # add partial trace constraints\n",
    "    for i in range(d):\n",
    "        for j in range(d):\n",
    "            B_ij = np.kron(np.outer(np.eye(1,d,i), np.eye(1,d,j)),np.identity(d))\n",
    "            if i == j:\n",
    "                constraints += [d*cp.real(cp.trace(B_ij @ X)) == 1.0]\n",
    "            else:\n",
    "                constraints += [d*cp.real(cp.trace(B_ij @ X)) == 0.0]\n",
    "    \n",
    "    \n",
    "    \n",
    "    # setup and solve problem\n",
    "    prob = cp.Problem(cp.Minimize(cp.real(cp.trace(X_tar @ X))),\n",
    "                      constraints)\n",
    "    \n",
    "    F_lo_minus = prob.solve()\n",
    "    \n",
    "    derivative_dict[state] = abs((F_lo_plus - F_lo_minus)/(confidence_interval_upper[state] - confidence_interval_lower[state]))"
   ]
  },
  {
   "cell_type": "code",
   "execution_count": 6,
   "id": "4892dd1a-1227-425a-9dd5-ac89f2688902",
   "metadata": {},
   "outputs": [
    {
     "data": {
      "text/plain": [
       "{'00': 0.002924229174231521,\n",
       " '01': 0.362019127736018,\n",
       " '10': 0.1178353772272963,\n",
       " '11': 0.42678379188926585,\n",
       " '+H': 0.3999177766971465,\n",
       " '+M': 0.03170856860531061,\n",
       " '-H': 0.3878362097090156,\n",
       " '-M': 0.15447369198165053,\n",
       " '1+': 0.013013128309231197,\n",
       " '0-': 0.27651653227512457,\n",
       " '0+': 0.09122557872667525,\n",
       " '1-': 0.41714488296615443}"
      ]
     },
     "execution_count": 6,
     "metadata": {},
     "output_type": "execute_result"
    }
   ],
   "source": [
    "derivative_dict"
   ]
  },
  {
   "cell_type": "markdown",
   "id": "531b700f-90ac-4665-9308-fd05805b293a",
   "metadata": {},
   "source": [
    "Now we apply the propagation of uncertainty rule to obtain the standard deviation of the process fidelity bound"
   ]
  },
  {
   "cell_type": "code",
   "execution_count": 7,
   "id": "7095ad0d-553d-4d34-8715-19fcdd5a5f37",
   "metadata": {},
   "outputs": [
    {
     "name": "stdout",
     "output_type": "stream",
     "text": [
      "1.1734643222229957e-08\n",
      "0.0001083265582497199\n"
     ]
    }
   ],
   "source": [
    "var_state = 0\n",
    "import math\n",
    "for state in derivative_dict.keys():\n",
    "    var_state += (derivative_dict[state]*((confidence_interval_upper[state] - confidence_interval_lower[state])/2))**2\n",
    "print(var_state)\n",
    "std_state = math.sqrt(var_state)\n",
    "print(std_state)"
   ]
  },
  {
   "cell_type": "markdown",
   "id": "4c27f836-7a5b-4567-b586-2ae4dbcae382",
   "metadata": {},
   "source": [
    "We convert from process fidelity to average fidelity"
   ]
  },
  {
   "cell_type": "code",
   "execution_count": 8,
   "id": "e5646026-08a3-41ff-81d5-c82a3118a8e6",
   "metadata": {},
   "outputs": [
    {
     "name": "stdout",
     "output_type": "stream",
     "text": [
      "average infidelity upper bound:  0.0002337600000000828\n",
      "standard deviation of the average infidelity bound:  8.666124659977592e-05\n"
     ]
    }
   ],
   "source": [
    "print('average infidelity upper bound: ', 1-(4*(0.9997078) + 1)/(4+1))\n",
    "print('standard deviation of the average infidelity bound: ', (4/5)*(std_state))"
   ]
  },
  {
   "cell_type": "code",
   "execution_count": null,
   "id": "140b9fb1-c356-458c-91d7-8b68a875dc27",
   "metadata": {},
   "outputs": [],
   "source": []
  }
 ],
 "metadata": {
  "kernelspec": {
   "display_name": "Python 3 (ipykernel)",
   "language": "python",
   "name": "python3"
  },
  "language_info": {
   "codemirror_mode": {
    "name": "ipython",
    "version": 3
   },
   "file_extension": ".py",
   "mimetype": "text/x-python",
   "name": "python",
   "nbconvert_exporter": "python",
   "pygments_lexer": "ipython3",
   "version": "3.12.2"
  }
 },
 "nbformat": 4,
 "nbformat_minor": 5
}
