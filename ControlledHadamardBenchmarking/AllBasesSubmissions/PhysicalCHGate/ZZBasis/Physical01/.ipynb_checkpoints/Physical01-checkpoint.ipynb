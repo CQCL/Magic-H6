{
 "cells": [
  {
   "cell_type": "code",
   "execution_count": 1,
   "id": "816eb4d0-20cf-4eeb-b026-3c30e641c396",
   "metadata": {},
   "outputs": [],
   "source": [
    "import math\n",
    "import json"
   ]
  },
  {
   "cell_type": "code",
   "execution_count": 2,
   "id": "bb72ed2d-a6e1-4d40-9bc8-3d63c79af1da",
   "metadata": {},
   "outputs": [],
   "source": [
    "qasm = '''\n",
    "\n",
    "OPENQASM 2.0;\n",
    "include \"hqslib1_dev.inc\";\n",
    "qreg q0[10];\n",
    "qreg q1[10];\n",
    "creg meas0[10];\n",
    "creg meas1[10];\n",
    "\n",
    "gate chh() a,b\n",
    "{\n",
    "   ry(-pi/4) b;\n",
    "   cz a,b;\n",
    "   ry(pi/4) b;\n",
    "}\n",
    "\n",
    "\n",
    "x q1;\n",
    "\n",
    "barrier q0, q1;\n",
    "chh q0, q1;\n",
    "barrier q0, q1;\n",
    "\n",
    "x q1;\n",
    "\n",
    "\n",
    "measure q0 -> meas0;\n",
    "measure q1 -> meas1;\n",
    "'''"
   ]
  },
  {
   "cell_type": "code",
   "execution_count": 3,
   "id": "083fdcca-9b80-459b-911c-c8a044dcecaf",
   "metadata": {},
   "outputs": [],
   "source": [
    "with open(\"Physical01.json\", \"r\") as file:\n",
    "    jobs = json.load(file)"
   ]
  },
  {
   "cell_type": "code",
   "execution_count": 4,
   "id": "a13e8c1a-e813-4612-91bb-b6bb30f955fb",
   "metadata": {},
   "outputs": [
    {
     "name": "stdout",
     "output_type": "stream",
     "text": [
      "failures: 411 totals: 100000\n",
      "physical failure rate: 0.00411\n",
      "standard deviation of physical failure rate: 0.00020273134932713294\n"
     ]
    }
   ],
   "source": [
    "totals = 0\n",
    "fails = 0\n",
    "\n",
    "for j in jobs:\n",
    "    r = j['results']\n",
    "    for i in range(0,len(r['meas0'])):\n",
    "        for k in range(0,10):\n",
    "            totals += 1\n",
    "            if (r['meas0'][i][k] != '0' or r['meas1'][i][k] != '0'):\n",
    "                fails += 1\n",
    "print('failures:', fails, 'totals:', totals)\n",
    "print('physical failure rate:', fails/totals)\n",
    "print('standard deviation of physical failure rate:', math.sqrt(fails)/totals)"
   ]
  },
  {
   "cell_type": "code",
   "execution_count": null,
   "id": "f0c397ab-7be7-4820-8bad-af3a4fa88743",
   "metadata": {},
   "outputs": [],
   "source": []
  }
 ],
 "metadata": {
  "kernelspec": {
   "display_name": "Python 3 (ipykernel)",
   "language": "python",
   "name": "python3"
  },
  "language_info": {
   "codemirror_mode": {
    "name": "ipython",
    "version": 3
   },
   "file_extension": ".py",
   "mimetype": "text/x-python",
   "name": "python",
   "nbconvert_exporter": "python",
   "pygments_lexer": "ipython3",
   "version": "3.12.2"
  }
 },
 "nbformat": 4,
 "nbformat_minor": 5
}
