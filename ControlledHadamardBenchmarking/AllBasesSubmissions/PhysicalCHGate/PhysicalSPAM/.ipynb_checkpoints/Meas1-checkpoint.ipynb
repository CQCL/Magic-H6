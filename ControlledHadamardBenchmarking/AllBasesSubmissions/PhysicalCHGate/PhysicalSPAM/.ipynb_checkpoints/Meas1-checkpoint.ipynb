{
 "cells": [
  {
   "cell_type": "code",
   "execution_count": 1,
   "id": "3ebd6591-3f16-4da6-a1b1-8f5d43e08401",
   "metadata": {},
   "outputs": [],
   "source": [
    "# Copyright 2025 Quantinuum (www.quantinuum.com)\n",
    "#\n",
    "# Licensed under the Apache License, Version 2.0 (the \"License\");\n",
    "# you may not use this file except in compliance with the License.\n",
    "# You may obtain a copy of the License at\n",
    "#\n",
    "#     http://www.apache.org/licenses/LICENSE-2.0\n",
    "#\n",
    "# Unless required by applicable law or agreed to in writing, software\n",
    "# distributed under the License is distributed on an \"AS IS\" BASIS,\n",
    "# WITHOUT WARRANTIES OR CONDITIONS OF ANY KIND, either express or implied.\n",
    "# See the License for the specific language governing permissions and\n",
    "# limitations under the License."
   ]
  },
  {
   "cell_type": "code",
   "execution_count": 2,
   "id": "a8190311-3d79-4c7f-b3d0-754e0a97c447",
   "metadata": {},
   "outputs": [],
   "source": [
    "import math\n",
    "import json"
   ]
  },
  {
   "cell_type": "code",
   "execution_count": 3,
   "id": "7a87b743-2546-4dd4-afa1-c6c858539be2",
   "metadata": {},
   "outputs": [],
   "source": [
    "qasm = '''\n",
    "\n",
    "OPENQASM 2.0;\n",
    "include \"hqslib1_dev.inc\";\n",
    "\n",
    "qreg q0[5];\n",
    "qreg q1[5];\n",
    "creg meas0[5];\n",
    "creg meas1[5];\n",
    "\n",
    "x q0;\n",
    "x q1;\n",
    "\n",
    "\n",
    "measure q0 -> meas0;\n",
    "measure q1 -> meas1;\n",
    "'''"
   ]
  },
  {
   "cell_type": "code",
   "execution_count": 4,
   "id": "def41727-71be-4979-9c1e-c531addc5b8f",
   "metadata": {},
   "outputs": [],
   "source": [
    "with open(\"Meas1.json\", \"r\") as file:\n",
    "    jobs = json.load(file)"
   ]
  },
  {
   "cell_type": "code",
   "execution_count": 7,
   "id": "65d04e50-04e8-43fd-ab35-72f5fba31889",
   "metadata": {},
   "outputs": [
    {
     "name": "stdout",
     "output_type": "stream",
     "text": [
      "measurement error for |1> state: 0.0036556521739130434\n",
      "standard deviation: 5.6381095921555917e-05\n"
     ]
    }
   ],
   "source": [
    "totals = 0\n",
    "fails = 0\n",
    "for j in jobs:\n",
    "    r = j['results']\n",
    "    for i in range(0,len(r['meas0'])):\n",
    "        for k in range(0,5):\n",
    "            if r['meas0'][i][k] == '0':\n",
    "                fails += 1\n",
    "            if r['meas1'][i][k] == '0':\n",
    "                fails += 1\n",
    "            totals += 2\n",
    "print('measurement error for |1> state:', fails/totals)\n",
    "print('standard deviation:', math.sqrt(fails)/totals)"
   ]
  },
  {
   "cell_type": "code",
   "execution_count": 10,
   "id": "e15eaa2e-b56a-4ce2-82d7-2d85de5c0dce",
   "metadata": {},
   "outputs": [
    {
     "name": "stdout",
     "output_type": "stream",
     "text": [
      "confidence interval: ( 0.0035992710779914876 , 0.003712033269834599 )\n"
     ]
    }
   ],
   "source": [
    "print('confidence interval: (', 0.0036556521739130434 - 5.6381095921555917e-05, ',', 0.0036556521739130434 + 5.6381095921555917e-05, ')')"
   ]
  },
  {
   "cell_type": "code",
   "execution_count": null,
   "id": "461f3579-9eba-44a4-96f1-f13812073aaf",
   "metadata": {},
   "outputs": [],
   "source": []
  }
 ],
 "metadata": {
  "kernelspec": {
   "display_name": "Python 3 (ipykernel)",
   "language": "python",
   "name": "python3"
  },
  "language_info": {
   "codemirror_mode": {
    "name": "ipython",
    "version": 3
   },
   "file_extension": ".py",
   "mimetype": "text/x-python",
   "name": "python",
   "nbconvert_exporter": "python",
   "pygments_lexer": "ipython3",
   "version": "3.12.2"
  }
 },
 "nbformat": 4,
 "nbformat_minor": 5
}
