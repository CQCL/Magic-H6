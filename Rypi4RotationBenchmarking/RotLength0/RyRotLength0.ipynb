{
 "cells": [
  {
   "cell_type": "code",
   "execution_count": 1,
   "id": "7aedfc37-afad-40f2-a93a-72aab6f1be74",
   "metadata": {},
   "outputs": [],
   "source": [
    "import json\n",
    "import math"
   ]
  },
  {
   "cell_type": "code",
   "execution_count": 2,
   "id": "1450bb01-685a-4ddd-bae6-348a02e4f51e",
   "metadata": {},
   "outputs": [],
   "source": [
    "qasm = '''\n",
    "\n",
    "OPENQASM 2.0;\n",
    "include \"hqslib1.inc\";\n",
    "qreg q0[6];\n",
    "\n",
    "\n",
    "qreg a0[2];\n",
    "\n",
    "\n",
    "creg init0[2];\n",
    "creg meas0[6];\n",
    "\n",
    "\n",
    "\n",
    "h q0[0];\n",
    "cx q0[0], a0[0];\n",
    "cx q0[0], q0[1];\n",
    "cx q0[0], q0[4];\n",
    "cx q0[0], q0[5];\n",
    "cx q0[0], a0[0];\n",
    "measure a0[0] -> init0[0];\n",
    "reset a0[0];\n",
    "\n",
    "h q0[2];\n",
    "cx q0[2], a0[1];\n",
    "cx q0[2], q0[3];\n",
    "cx q0[2], q0[4];\n",
    "cx q0[2], q0[5];\n",
    "cx q0[2], a0[1];\n",
    "measure a0[1] -> init0[1];\n",
    "reset a0[1];\n",
    "\n",
    "\n",
    "\n",
    "\n",
    "measure q0 -> meas0;\n",
    "'''"
   ]
  },
  {
   "cell_type": "code",
   "execution_count": 3,
   "id": "8e0a7ca4-70c6-4600-90c6-0ff9f07f39b6",
   "metadata": {},
   "outputs": [],
   "source": [
    "with open(\"RyLength0.json\", \"r\") as file:\n",
    "    jobs = json.load(file)"
   ]
  },
  {
   "cell_type": "code",
   "execution_count": 4,
   "id": "3268b41b-9b1e-4df7-ba68-b505589adab2",
   "metadata": {},
   "outputs": [],
   "source": [
    "def checks(r,i):\n",
    "    if (r['init0'][i] != '00'):\n",
    "        return False\n",
    "    meas0 = r['meas0'][i]\n",
    "    if (int(meas0[5]) + int(meas0[4]) + int(meas0[3]) + int(meas0[2]))%2 == 1:\n",
    "        return False\n",
    "    if (int(meas0[3]) + int(meas0[2]) + int(meas0[1]) + int(meas0[0]))%2 == 1:\n",
    "        return False\n",
    "    return True\n",
    "\n",
    "\n",
    "def success(r,i):\n",
    "    meas0 = r['meas0'][i]\n",
    "    return (int(meas0[5]) + int(meas0[3]) + int(meas0[1]))%2 == 0"
   ]
  },
  {
   "cell_type": "code",
   "execution_count": 5,
   "id": "015bebfc-40c7-435d-84d4-44c296fc0414",
   "metadata": {},
   "outputs": [
    {
     "name": "stdout",
     "output_type": "stream",
     "text": [
      "failures: 1 totals: 29206\n",
      "logical failure rate: 3.4239539820584814e-05\n",
      "acceptance rate: 0.9735333333333334\n",
      "acceptance rate standard deviation: 0.0009267538727951132\n"
     ]
    }
   ],
   "source": [
    "#Note: the cy flips the Y stabilizer of the control...so after that we should expect a y stabilizer measurement of 0 in q0\n",
    "#Note: ycheck1[0] should be 0\n",
    "totals = 0\n",
    "failures = 0\n",
    "shots = 0\n",
    "for j in jobs:\n",
    "    r = j['results']\n",
    "    for i in range(0,len(r['init0'])):\n",
    "        shots += 1\n",
    "        if (checks(r,i)):\n",
    "            totals += 1\n",
    "            if (not success(r,i)):\n",
    "                failures += 1\n",
    "print('failures:', failures, 'totals:', totals)\n",
    "print('logical failure rate:', failures/totals)\n",
    "print('acceptance rate:', totals/shots)\n",
    "print('acceptance rate standard deviation:', math.sqrt((totals/shots)*(shots-totals))/shots)"
   ]
  },
  {
   "cell_type": "code",
   "execution_count": 6,
   "id": "5e60e371-7903-49a9-8ffd-6856c88c134c",
   "metadata": {},
   "outputs": [
    {
     "name": "stdout",
     "output_type": "stream",
     "text": [
      "logical failure rate confidence interval: ( 1.3078416946029236e-05 , 8.963668559788148e-05 )\n"
     ]
    }
   ],
   "source": [
    "p = failures/totals\n",
    "n = totals\n",
    "wilson = (1/(1 + 1/n))*(1/(2*n))*(math.sqrt(4*n*p*(1-p) + 1))\n",
    "wilson_mean = 1/(1+ (1/n))*(p + (1/(2*n)))\n",
    "print('logical failure rate confidence interval: (',  wilson_mean - wilson, ',',  wilson_mean + wilson, ')',)"
   ]
  },
  {
   "cell_type": "code",
   "execution_count": null,
   "id": "bf195ec3-891b-4380-b421-914b2304a769",
   "metadata": {},
   "outputs": [],
   "source": []
  }
 ],
 "metadata": {
  "kernelspec": {
   "display_name": "Python 3 (ipykernel)",
   "language": "python",
   "name": "python3"
  },
  "language_info": {
   "codemirror_mode": {
    "name": "ipython",
    "version": 3
   },
   "file_extension": ".py",
   "mimetype": "text/x-python",
   "name": "python",
   "nbconvert_exporter": "python",
   "pygments_lexer": "ipython3",
   "version": "3.12.2"
  }
 },
 "nbformat": 4,
 "nbformat_minor": 5
}
