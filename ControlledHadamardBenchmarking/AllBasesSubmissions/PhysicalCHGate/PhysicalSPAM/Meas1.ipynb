{
 "cells": [
  {
   "cell_type": "code",
   "execution_count": 1,
   "id": "a8190311-3d79-4c7f-b3d0-754e0a97c447",
   "metadata": {},
   "outputs": [],
   "source": [
    "import math\n",
    "import json"
   ]
  },
  {
   "cell_type": "code",
   "execution_count": 2,
   "id": "7a87b743-2546-4dd4-afa1-c6c858539be2",
   "metadata": {},
   "outputs": [],
   "source": [
    "qasm = '''\n",
    "\n",
    "OPENQASM 2.0;\n",
    "include \"hqslib1_dev.inc\";\n",
    "\n",
    "qreg q0[5];\n",
    "qreg q1[5];\n",
    "creg meas0[5];\n",
    "creg meas1[5];\n",
    "\n",
    "x q0;\n",
    "x q1;\n",
    "\n",
    "\n",
    "measure q0 -> meas0;\n",
    "measure q1 -> meas1;\n",
    "'''"
   ]
  },
  {
   "cell_type": "code",
   "execution_count": 3,
   "id": "def41727-71be-4979-9c1e-c531addc5b8f",
   "metadata": {},
   "outputs": [],
   "source": [
    "with open(\"Meas1.json\", \"r\") as file:\n",
    "    jobs = json.load(file)"
   ]
  },
  {
   "cell_type": "code",
   "execution_count": 4,
   "id": "65d04e50-04e8-43fd-ab35-72f5fba31889",
   "metadata": {},
   "outputs": [
    {
     "name": "stdout",
     "output_type": "stream",
     "text": [
      "measurement error for |0> state: 0.0036556521739130434\n",
      "standard deviation: 5.6381095921555917e-05\n"
     ]
    }
   ],
   "source": [
    "totals = 0\n",
    "fails = 0\n",
    "for j in jobs:\n",
    "    r = j['results']\n",
    "    for i in range(0,len(r['meas0'])):\n",
    "        for j in range(0,5):\n",
    "            if r['meas0'][i][j] == '0':\n",
    "                fails += 1\n",
    "            if r['meas1'][i][j] == '0':\n",
    "                fails += 1\n",
    "            totals += 2\n",
    "print('measurement error for |0> state:', fails/totals)\n",
    "print('standard deviation:', math.sqrt(fails)/totals)"
   ]
  },
  {
   "cell_type": "code",
   "execution_count": null,
   "id": "e15eaa2e-b56a-4ce2-82d7-2d85de5c0dce",
   "metadata": {},
   "outputs": [],
   "source": []
  }
 ],
 "metadata": {
  "kernelspec": {
   "display_name": "Python 3 (ipykernel)",
   "language": "python",
   "name": "python3"
  },
  "language_info": {
   "codemirror_mode": {
    "name": "ipython",
    "version": 3
   },
   "file_extension": ".py",
   "mimetype": "text/x-python",
   "name": "python",
   "nbconvert_exporter": "python",
   "pygments_lexer": "ipython3",
   "version": "3.12.2"
  }
 },
 "nbformat": 4,
 "nbformat_minor": 5
}
