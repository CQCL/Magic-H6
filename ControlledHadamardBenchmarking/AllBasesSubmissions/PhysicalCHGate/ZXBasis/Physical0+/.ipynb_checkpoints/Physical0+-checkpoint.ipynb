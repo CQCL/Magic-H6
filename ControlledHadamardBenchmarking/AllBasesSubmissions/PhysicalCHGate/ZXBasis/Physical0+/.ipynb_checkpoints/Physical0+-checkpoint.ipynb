{
 "cells": [
  {
   "cell_type": "code",
   "execution_count": 1,
   "id": "dac9ec05-ee80-413d-8188-db901842d464",
   "metadata": {},
   "outputs": [],
   "source": [
    "# Copyright 2025 Quantinuum (www.quantinuum.com)\n",
    "#\n",
    "# Licensed under the Apache License, Version 2.0 (the \"License\");\n",
    "# you may not use this file except in compliance with the License.\n",
    "# You may obtain a copy of the License at\n",
    "#\n",
    "#     http://www.apache.org/licenses/LICENSE-2.0\n",
    "#\n",
    "# Unless required by applicable law or agreed to in writing, software\n",
    "# distributed under the License is distributed on an \"AS IS\" BASIS,\n",
    "# WITHOUT WARRANTIES OR CONDITIONS OF ANY KIND, either express or implied.\n",
    "# See the License for the specific language governing permissions and\n",
    "# limitations under the License."
   ]
  },
  {
   "cell_type": "code",
   "execution_count": 2,
   "id": "3d355540-164b-4040-b28d-187328af34aa",
   "metadata": {},
   "outputs": [],
   "source": [
    "import json\n",
    "import math"
   ]
  },
  {
   "cell_type": "code",
   "execution_count": 3,
   "id": "b9bdd338-968e-4821-9a31-9e4bfa49ef80",
   "metadata": {},
   "outputs": [],
   "source": [
    "qasm = '''\n",
    "\n",
    "OPENQASM 2.0;\n",
    "include \"hqslib1_dev.inc\";\n",
    "\n",
    "qreg q0[10];\n",
    "qreg q1[10];\n",
    "creg meas0[10];\n",
    "creg meas1[10];\n",
    "\n",
    "gate chh() a,b\n",
    "{\n",
    "   ry(-pi/4) b;\n",
    "   cz a,b;\n",
    "   ry(pi/4) b;\n",
    "}\n",
    "\n",
    "\n",
    "\n",
    "h q1;\n",
    "\n",
    "barrier q0, q1;\n",
    "chh q0, q1;\n",
    "barrier q0, q1;\n",
    "\n",
    "h q1;\n",
    "\n",
    "measure q0 -> meas0;\n",
    "measure q1 -> meas1;\n",
    "'''"
   ]
  },
  {
   "cell_type": "code",
   "execution_count": 4,
   "id": "3983f284-a2a5-4e33-81d3-49e60effb7d8",
   "metadata": {},
   "outputs": [],
   "source": [
    "with open(\"Physical0+.json\", \"r\") as file:\n",
    "    jobs = json.load(file)"
   ]
  },
  {
   "cell_type": "code",
   "execution_count": 6,
   "id": "9a44056d-ce30-4212-b6ca-ea2058371eab",
   "metadata": {},
   "outputs": [
    {
     "name": "stdout",
     "output_type": "stream",
     "text": [
      "failures: 374 totals: 100000\n",
      "physical failure rate: 0.00374\n",
      "standard deviation of physical failure rate: 0.00019339079605813715\n"
     ]
    }
   ],
   "source": [
    "totals = 0\n",
    "fails = 0\n",
    "for j in jobs:\n",
    "    r = j['results']\n",
    "    for i in range(0,len(r['meas0'])):\n",
    "        for k in range(0,10):\n",
    "            totals += 1\n",
    "            if (r['meas0'][i][k] != '0' or r['meas1'][i][k] != '0'):\n",
    "                fails += 1\n",
    "print('failures:', fails, 'totals:', totals)\n",
    "p = fails/totals\n",
    "stdev = math.sqrt(fails)/totals\n",
    "print('physical failure rate:', p)\n",
    "print('standard deviation of physical failure rate:', stdev)"
   ]
  },
  {
   "cell_type": "code",
   "execution_count": 7,
   "id": "7b4403bb-950d-498f-b78a-f53f30e44fdd",
   "metadata": {},
   "outputs": [
    {
     "name": "stdout",
     "output_type": "stream",
     "text": [
      "confidence interval: ( 0.0035466092039418626 , 0.003933390796058137 )\n"
     ]
    }
   ],
   "source": [
    "print('confidence interval: (', p - stdev, ',', p + stdev, ')')"
   ]
  },
  {
   "cell_type": "code",
   "execution_count": null,
   "id": "3632055f-c5bc-4b7b-8314-827c02a1ad91",
   "metadata": {},
   "outputs": [],
   "source": []
  }
 ],
 "metadata": {
  "kernelspec": {
   "display_name": "Python 3 (ipykernel)",
   "language": "python",
   "name": "python3"
  },
  "language_info": {
   "codemirror_mode": {
    "name": "ipython",
    "version": 3
   },
   "file_extension": ".py",
   "mimetype": "text/x-python",
   "name": "python",
   "nbconvert_exporter": "python",
   "pygments_lexer": "ipython3",
   "version": "3.12.2"
  }
 },
 "nbformat": 4,
 "nbformat_minor": 5
}
