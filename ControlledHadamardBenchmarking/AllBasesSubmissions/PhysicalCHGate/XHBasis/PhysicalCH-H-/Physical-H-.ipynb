{
 "cells": [
  {
   "cell_type": "code",
   "execution_count": 1,
   "id": "8f592bc8-52dc-49b6-b1e7-8b39dd3a383a",
   "metadata": {},
   "outputs": [],
   "source": [
    "# Copyright 2025 Quantinuum (www.quantinuum.com)\n",
    "#\n",
    "# Licensed under the Apache License, Version 2.0 (the \"License\");\n",
    "# you may not use this file except in compliance with the License.\n",
    "# You may obtain a copy of the License at\n",
    "#\n",
    "#     http://www.apache.org/licenses/LICENSE-2.0\n",
    "#\n",
    "# Unless required by applicable law or agreed to in writing, software\n",
    "# distributed under the License is distributed on an \"AS IS\" BASIS,\n",
    "# WITHOUT WARRANTIES OR CONDITIONS OF ANY KIND, either express or implied.\n",
    "# See the License for the specific language governing permissions and\n",
    "# limitations under the License."
   ]
  },
  {
   "cell_type": "code",
   "execution_count": 2,
   "id": "5f3ca27c-811b-4bc7-a2df-0a001cbf5e28",
   "metadata": {},
   "outputs": [],
   "source": [
    "import json\n",
    "import math"
   ]
  },
  {
   "cell_type": "code",
   "execution_count": 3,
   "id": "ccf94dbc-cb82-4f1f-b065-c96beacf6d13",
   "metadata": {},
   "outputs": [],
   "source": [
    "qasm = '''\n",
    "\n",
    "OPENQASM 2.0;\n",
    "include \"hqslib1_dev.inc\";\n",
    "\n",
    "qreg q0[10];\n",
    "qreg q1[10];\n",
    "creg meas0[10];\n",
    "creg meas1[10];\n",
    "\n",
    "gate chh() a,b\n",
    "{\n",
    "   ry(-pi/4) b;\n",
    "   cz a,b;\n",
    "   ry(pi/4) b;\n",
    "}\n",
    "\n",
    "\n",
    "h q0;\n",
    "z q0;\n",
    "ry(pi/4) q1;\n",
    "y q1;\n",
    "\n",
    "barrier q0, q1;\n",
    "chh q0, q1;\n",
    "barrier q0, q1;\n",
    "\n",
    "h q0;\n",
    "ry(-pi/4) q1;\n",
    "x q1;\n",
    "\n",
    "measure q0 -> meas0;\n",
    "measure q1 -> meas1;\n",
    "'''"
   ]
  },
  {
   "cell_type": "code",
   "execution_count": 4,
   "id": "54503eb9-9f21-4e5f-b517-12003bff2d34",
   "metadata": {},
   "outputs": [],
   "source": [
    "with open(\"Physical-H-.json\", \"r\") as file:\n",
    "    jobs = json.load(file)"
   ]
  },
  {
   "cell_type": "code",
   "execution_count": 6,
   "id": "d947176a-bb21-416e-8291-7ca460d1687a",
   "metadata": {},
   "outputs": [
    {
     "name": "stdout",
     "output_type": "stream",
     "text": [
      "failures: 380 totals: 100000\n",
      "physical failure rate: 0.0038\n",
      "standard deviation of physical failure rate: 0.00019493588689617925\n"
     ]
    }
   ],
   "source": [
    "totals = 0\n",
    "fails = 0\n",
    "for j in jobs:\n",
    "    r = j['results']\n",
    "    for i in range(0,len(r['meas0'])):\n",
    "        for k in range(0,10):\n",
    "            totals += 1\n",
    "            if (r['meas0'][i][k] != '0' or r['meas1'][i][k] != '0'):\n",
    "                fails += 1\n",
    "print('failures:', fails, 'totals:', totals)\n",
    "p = fails/totals\n",
    "stdev = math.sqrt(fails)/totals\n",
    "print('physical failure rate:', p)\n",
    "print('standard deviation of physical failure rate:', stdev)"
   ]
  },
  {
   "cell_type": "code",
   "execution_count": 7,
   "id": "6520054d-2656-4248-9bd3-1f79f4a682a3",
   "metadata": {},
   "outputs": [
    {
     "name": "stdout",
     "output_type": "stream",
     "text": [
      "confidence interval: ( 0.003605064113103821 , 0.00399493588689618 )\n"
     ]
    }
   ],
   "source": [
    "print('confidence interval: (', p - stdev, ',', p + stdev, ')')"
   ]
  },
  {
   "cell_type": "code",
   "execution_count": null,
   "id": "e5f736fc-c839-4a54-93a4-885d8694f712",
   "metadata": {},
   "outputs": [],
   "source": []
  }
 ],
 "metadata": {
  "kernelspec": {
   "display_name": "Python 3 (ipykernel)",
   "language": "python",
   "name": "python3"
  },
  "language_info": {
   "codemirror_mode": {
    "name": "ipython",
    "version": 3
   },
   "file_extension": ".py",
   "mimetype": "text/x-python",
   "name": "python",
   "nbconvert_exporter": "python",
   "pygments_lexer": "ipython3",
   "version": "3.12.2"
  }
 },
 "nbformat": 4,
 "nbformat_minor": 5
}
