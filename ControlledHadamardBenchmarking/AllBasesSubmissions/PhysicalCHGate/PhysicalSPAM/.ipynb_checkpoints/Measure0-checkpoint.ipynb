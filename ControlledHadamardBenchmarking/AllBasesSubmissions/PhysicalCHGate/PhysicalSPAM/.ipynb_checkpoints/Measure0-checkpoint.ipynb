{
 "cells": [
  {
   "cell_type": "code",
   "execution_count": 1,
   "id": "b82e4d51-7b6e-4c1f-a62e-944221ccf37f",
   "metadata": {},
   "outputs": [],
   "source": [
    "# Copyright 2025 Quantinuum (www.quantinuum.com)\n",
    "#\n",
    "# Licensed under the Apache License, Version 2.0 (the \"License\");\n",
    "# you may not use this file except in compliance with the License.\n",
    "# You may obtain a copy of the License at\n",
    "#\n",
    "#     http://www.apache.org/licenses/LICENSE-2.0\n",
    "#\n",
    "# Unless required by applicable law or agreed to in writing, software\n",
    "# distributed under the License is distributed on an \"AS IS\" BASIS,\n",
    "# WITHOUT WARRANTIES OR CONDITIONS OF ANY KIND, either express or implied.\n",
    "# See the License for the specific language governing permissions and\n",
    "# limitations under the License."
   ]
  },
  {
   "cell_type": "code",
   "execution_count": 2,
   "id": "178b8e34-feac-494b-8258-d65e2e0bea69",
   "metadata": {},
   "outputs": [],
   "source": [
    "import json\n",
    "import math"
   ]
  },
  {
   "cell_type": "code",
   "execution_count": 3,
   "id": "35841026-5d26-474f-98c3-7ae9316d52c3",
   "metadata": {},
   "outputs": [],
   "source": [
    "qasm = '''\n",
    "\n",
    "OPENQASM 2.0;\n",
    "include \"hqslib1_dev.inc\";\n",
    "\n",
    "qreg q0[5];\n",
    "qreg q1[5];\n",
    "creg meas0[5];\n",
    "creg meas1[5];\n",
    "\n",
    "\n",
    "\n",
    "measure q0 -> meas0;\n",
    "measure q1 -> meas1;\n",
    "'''"
   ]
  },
  {
   "cell_type": "code",
   "execution_count": 4,
   "id": "ba00980c-fce7-4d2e-8f9f-9fb16890bb57",
   "metadata": {},
   "outputs": [],
   "source": [
    "with open(\"Meas0.json\", \"r\") as file:\n",
    "    jobs = json.load(file)"
   ]
  },
  {
   "cell_type": "code",
   "execution_count": 5,
   "id": "c66b275a-03f2-4eab-9ad7-0ee49eb1996e",
   "metadata": {},
   "outputs": [
    {
     "name": "stdout",
     "output_type": "stream",
     "text": [
      "measurement error for |0> state: 0.0013156521739130435\n",
      "standard deviation: 3.382373971961169e-05\n"
     ]
    }
   ],
   "source": [
    "totals = 0\n",
    "fails = 0\n",
    "for j in jobs:\n",
    "    r = j['results']\n",
    "    for i in range(0,len(r['meas0'])):\n",
    "        for k in range(0,5):\n",
    "            if r['meas0'][i][k] == '1':\n",
    "                fails += 1\n",
    "            if r['meas1'][i][k] == '1':\n",
    "                fails += 1\n",
    "            totals += 2\n",
    "print('measurement error for |0> state:', fails/totals)\n",
    "print('standard deviation:', math.sqrt(fails)/totals)"
   ]
  },
  {
   "cell_type": "code",
   "execution_count": 8,
   "id": "6358d223-beac-4ed2-a549-e734088c6c61",
   "metadata": {},
   "outputs": [
    {
     "name": "stdout",
     "output_type": "stream",
     "text": [
      "confidence interval: ( 0.001281828434193432 , 0.0013494759136326551 )\n"
     ]
    }
   ],
   "source": [
    "print('confidence interval: (', 0.0013156521739130435 - 3.382373971961169e-05, ',', 0.0013156521739130435 + 3.382373971961169e-05, ')')"
   ]
  },
  {
   "cell_type": "code",
   "execution_count": null,
   "id": "73f360fa-8894-4adb-b340-307661c91ccc",
   "metadata": {},
   "outputs": [],
   "source": []
  }
 ],
 "metadata": {
  "kernelspec": {
   "display_name": "Python 3 (ipykernel)",
   "language": "python",
   "name": "python3"
  },
  "language_info": {
   "codemirror_mode": {
    "name": "ipython",
    "version": 3
   },
   "file_extension": ".py",
   "mimetype": "text/x-python",
   "name": "python",
   "nbconvert_exporter": "python",
   "pygments_lexer": "ipython3",
   "version": "3.12.2"
  }
 },
 "nbformat": 4,
 "nbformat_minor": 5
}
