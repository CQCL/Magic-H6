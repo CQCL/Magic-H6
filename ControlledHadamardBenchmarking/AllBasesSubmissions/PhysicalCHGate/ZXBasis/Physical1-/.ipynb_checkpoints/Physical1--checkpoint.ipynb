{
 "cells": [
  {
   "cell_type": "code",
   "execution_count": 1,
   "id": "97690e17-ef3f-4e48-977d-87ee80e161c3",
   "metadata": {},
   "outputs": [],
   "source": [
    "import math\n",
    "import json"
   ]
  },
  {
   "cell_type": "code",
   "execution_count": 2,
   "id": "eee5bded-95df-4cd1-a45e-eb28ebedbe37",
   "metadata": {},
   "outputs": [],
   "source": [
    "qasm = '''\n",
    "\n",
    "OPENQASM 2.0;\n",
    "include \"hqslib1_dev.inc\";\n",
    "\n",
    "qreg q0[10];\n",
    "qreg q1[10];\n",
    "creg meas0[10];\n",
    "creg meas1[10];\n",
    "\n",
    "gate chh() a,b\n",
    "{\n",
    "   ry(-pi/4) b;\n",
    "   cz a,b;\n",
    "   ry(pi/4) b;\n",
    "}\n",
    "\n",
    "\n",
    "x q0;\n",
    "\n",
    "\n",
    "h q1;\n",
    "z q1;\n",
    "\n",
    "barrier q0, q1;\n",
    "chh q0, q1;\n",
    "barrier q0, q1;\n",
    "\n",
    "x q0;\n",
    "x q1;\n",
    "\n",
    "\n",
    "measure q0 -> meas0;\n",
    "\n",
    "\n",
    "measure q1 -> meas1;\n",
    "'''"
   ]
  },
  {
   "cell_type": "code",
   "execution_count": 4,
   "id": "334071d9-63e6-4d75-be9f-22bc6a8582af",
   "metadata": {},
   "outputs": [],
   "source": [
    "with open(\"Physical1-.json\", \"r\") as file:\n",
    "    jobs = json.load(file)"
   ]
  },
  {
   "cell_type": "code",
   "execution_count": 5,
   "id": "46296d82-790c-4fae-a365-0655c60ae963",
   "metadata": {},
   "outputs": [
    {
     "name": "stdout",
     "output_type": "stream",
     "text": [
      "failures: 385 totals: 100000\n",
      "physical failure rate: 0.00385\n",
      "standard deviation of physical failure rate: 0.00019621416870348583\n"
     ]
    }
   ],
   "source": [
    "totals = 0\n",
    "fails = 0\n",
    "for j in jobs:\n",
    "    r = j['results']\n",
    "    for i in range(0,len(r['meas0'])):\n",
    "        for k in range(0,10):\n",
    "            totals += 1\n",
    "            if (r['meas0'][i][k] != '0' or r['meas1'][i][k] != '0'):\n",
    "                fails += 1\n",
    "print('failures:', fails, 'totals:', totals)\n",
    "print('physical failure rate:', fails/totals)\n",
    "print('standard deviation of physical failure rate:', math.sqrt(fails)/totals)"
   ]
  }
 ],
 "metadata": {
  "kernelspec": {
   "display_name": "Python 3 (ipykernel)",
   "language": "python",
   "name": "python3"
  },
  "language_info": {
   "codemirror_mode": {
    "name": "ipython",
    "version": 3
   },
   "file_extension": ".py",
   "mimetype": "text/x-python",
   "name": "python",
   "nbconvert_exporter": "python",
   "pygments_lexer": "ipython3",
   "version": "3.12.2"
  }
 },
 "nbformat": 4,
 "nbformat_minor": 5
}
