{
 "cells": [
  {
   "cell_type": "code",
   "execution_count": 1,
   "id": "3349c018-ba63-4d82-aa50-dff6cafe7c6e",
   "metadata": {},
   "outputs": [],
   "source": [
    "import math\n",
    "import json"
   ]
  },
  {
   "cell_type": "code",
   "execution_count": 2,
   "id": "43f8a83a-0755-4d08-ae61-89bb02c4ae90",
   "metadata": {},
   "outputs": [],
   "source": [
    "qasm = '''\n",
    "\n",
    "OPENQASM 2.0;\n",
    "include \"hqslib1_dev.inc\";\n",
    "\n",
    "qreg q0[10];\n",
    "qreg q1[10];\n",
    "creg meas0[10];\n",
    "creg meas1[10];\n",
    "\n",
    "gate chh() a,b\n",
    "{\n",
    "   ry(-pi/4) b;\n",
    "   cz a,b;\n",
    "   ry(pi/4) b;\n",
    "}\n",
    "\n",
    "\n",
    "x q0;\n",
    "\n",
    "barrier q0, q1;\n",
    "chh q0, q1;\n",
    "barrier q0, q1;\n",
    "\n",
    "h q1;\n",
    "x q0;\n",
    "\n",
    "measure q0 -> meas0;\n",
    "measure q1 -> meas1;\n",
    "'''"
   ]
  },
  {
   "cell_type": "code",
   "execution_count": 3,
   "id": "10544a01-254a-42df-9af3-80de11fea4f2",
   "metadata": {},
   "outputs": [],
   "source": [
    "with open(\"Physical10.json\", \"r\") as file:\n",
    "    jobs = json.load(file)"
   ]
  },
  {
   "cell_type": "code",
   "execution_count": 4,
   "id": "6d8bd1fd-b127-42b5-8a25-3cdf95fa7494",
   "metadata": {},
   "outputs": [
    {
     "name": "stdout",
     "output_type": "stream",
     "text": [
      "failures: 311 totals: 100000\n",
      "physical failure rate: 0.00311\n",
      "standard deviation of physical failure rate: 0.00017635192088548396\n"
     ]
    }
   ],
   "source": [
    "totals = 0\n",
    "fails = 0\n",
    "\n",
    "for j in jobs:\n",
    "    r = j['results']\n",
    "    for i in range(0,len(r['meas0'])):\n",
    "        for k in range(0,10):\n",
    "            totals += 1\n",
    "            if (r['meas0'][i][k] != '0' or r['meas1'][i][k] != '0'):\n",
    "                fails += 1\n",
    "print('failures:', fails, 'totals:', totals)\n",
    "print('physical failure rate:', fails/totals)\n",
    "print('standard deviation of physical failure rate:', math.sqrt(fails)/totals)"
   ]
  },
  {
   "cell_type": "code",
   "execution_count": null,
   "id": "9092a468-c975-4a68-ab13-94ba534a52f1",
   "metadata": {},
   "outputs": [],
   "source": []
  }
 ],
 "metadata": {
  "kernelspec": {
   "display_name": "Python 3 (ipykernel)",
   "language": "python",
   "name": "python3"
  },
  "language_info": {
   "codemirror_mode": {
    "name": "ipython",
    "version": 3
   },
   "file_extension": ".py",
   "mimetype": "text/x-python",
   "name": "python",
   "nbconvert_exporter": "python",
   "pygments_lexer": "ipython3",
   "version": "3.12.2"
  }
 },
 "nbformat": 4,
 "nbformat_minor": 5
}
