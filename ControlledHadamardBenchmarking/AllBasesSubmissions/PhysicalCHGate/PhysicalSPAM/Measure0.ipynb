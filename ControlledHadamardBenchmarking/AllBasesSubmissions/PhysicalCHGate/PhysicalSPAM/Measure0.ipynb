{
 "cells": [
  {
   "cell_type": "code",
   "execution_count": 1,
   "id": "178b8e34-feac-494b-8258-d65e2e0bea69",
   "metadata": {},
   "outputs": [],
   "source": [
    "import json\n",
    "import math"
   ]
  },
  {
   "cell_type": "code",
   "execution_count": 2,
   "id": "35841026-5d26-474f-98c3-7ae9316d52c3",
   "metadata": {},
   "outputs": [],
   "source": [
    "qasm = '''\n",
    "\n",
    "OPENQASM 2.0;\n",
    "include \"hqslib1_dev.inc\";\n",
    "\n",
    "qreg q0[5];\n",
    "qreg q1[5];\n",
    "creg meas0[5];\n",
    "creg meas1[5];\n",
    "\n",
    "\n",
    "\n",
    "measure q0 -> meas0;\n",
    "measure q1 -> meas1;\n",
    "'''"
   ]
  },
  {
   "cell_type": "code",
   "execution_count": 3,
   "id": "ba00980c-fce7-4d2e-8f9f-9fb16890bb57",
   "metadata": {},
   "outputs": [],
   "source": [
    "with open(\"Meas0.json\", \"r\") as file:\n",
    "    jobs = json.load(file)"
   ]
  },
  {
   "cell_type": "code",
   "execution_count": 4,
   "id": "c66b275a-03f2-4eab-9ad7-0ee49eb1996e",
   "metadata": {},
   "outputs": [
    {
     "name": "stdout",
     "output_type": "stream",
     "text": [
      "measurement error for |0> state: 0.0013156521739130435\n",
      "standard deviation: 3.382373971961169e-05\n"
     ]
    }
   ],
   "source": [
    "totals = 0\n",
    "fails = 0\n",
    "for j in jobs:\n",
    "    r = j['results']\n",
    "    for i in range(0,len(r['meas0'])):\n",
    "        for j in range(0,5):\n",
    "            if r['meas0'][i][j] == '1':\n",
    "                fails += 1\n",
    "            if r['meas1'][i][j] == '1':\n",
    "                fails += 1\n",
    "            totals += 2\n",
    "print('measurement error for |0> state:', fails/totals)\n",
    "print('standard deviation:', math.sqrt(fails)/totals)"
   ]
  },
  {
   "cell_type": "code",
   "execution_count": null,
   "id": "6358d223-beac-4ed2-a549-e734088c6c61",
   "metadata": {},
   "outputs": [],
   "source": []
  }
 ],
 "metadata": {
  "kernelspec": {
   "display_name": "Python 3 (ipykernel)",
   "language": "python",
   "name": "python3"
  },
  "language_info": {
   "codemirror_mode": {
    "name": "ipython",
    "version": 3
   },
   "file_extension": ".py",
   "mimetype": "text/x-python",
   "name": "python",
   "nbconvert_exporter": "python",
   "pygments_lexer": "ipython3",
   "version": "3.12.2"
  }
 },
 "nbformat": 4,
 "nbformat_minor": 5
}
