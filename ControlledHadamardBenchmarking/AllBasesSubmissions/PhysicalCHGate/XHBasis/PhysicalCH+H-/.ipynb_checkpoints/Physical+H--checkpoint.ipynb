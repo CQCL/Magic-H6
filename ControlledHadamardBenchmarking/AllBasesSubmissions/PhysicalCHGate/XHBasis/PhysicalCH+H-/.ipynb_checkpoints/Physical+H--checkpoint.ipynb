{
 "cells": [
  {
   "cell_type": "code",
   "execution_count": 1,
   "id": "db0751c0-0788-406f-9567-87c1f08dafdc",
   "metadata": {},
   "outputs": [],
   "source": [
    "import math\n",
    "import json"
   ]
  },
  {
   "cell_type": "code",
   "execution_count": 3,
   "id": "855e44f0-926f-4376-8164-88b958afbe39",
   "metadata": {},
   "outputs": [],
   "source": [
    "qasm = '''\n",
    "\n",
    "OPENQASM 2.0;\n",
    "include \"hqslib1_dev.inc\";\n",
    "\n",
    "qreg q0[10];\n",
    "qreg q1[10];\n",
    "creg meas0[10];\n",
    "creg meas1[10];\n",
    "\n",
    "gate chh() a,b\n",
    "{\n",
    "   ry(-pi/4) b;\n",
    "   cz a,b;\n",
    "   ry(pi/4) b;\n",
    "}\n",
    "\n",
    "\n",
    "h q0;\n",
    "ry(pi/4) q1;\n",
    "y q1;\n",
    "\n",
    "barrier q0, q1;\n",
    "chh q0, q1;\n",
    "barrier q0, q1;\n",
    "\n",
    "h q0;\n",
    "ry(-pi/4) q1;\n",
    "\n",
    "x q0;\n",
    "x q1;\n",
    "\n",
    "measure q0 -> meas0;\n",
    "measure q1 -> meas1;\n",
    "'''"
   ]
  },
  {
   "cell_type": "code",
   "execution_count": 2,
   "id": "7e722945-09c7-4d45-8870-2638bba8b1d8",
   "metadata": {},
   "outputs": [],
   "source": [
    "with open(\"Physical+H-.json\", \"r\") as file:\n",
    "    jobs = json.load(file)"
   ]
  },
  {
   "cell_type": "code",
   "execution_count": 3,
   "id": "b8ed72af-3124-412e-9161-40d47edbbc33",
   "metadata": {},
   "outputs": [
    {
     "name": "stdout",
     "output_type": "stream",
     "text": [
      "failures: 424 totals: 100000\n",
      "physical failure rate: 0.00424\n",
      "standard deviation of physical failure rate: 0.00020591260281974002\n"
     ]
    }
   ],
   "source": [
    "totals = 0\n",
    "fails = 0\n",
    "for j in jobs:\n",
    "    r = j['results']\n",
    "    for i in range(0,len(r['meas0'])):\n",
    "        for k in range(0,10):\n",
    "            totals += 1\n",
    "            if (r['meas0'][i][k] != '0' or r['meas1'][i][k] != '0'):\n",
    "                fails += 1\n",
    "print('failures:', fails, 'totals:', totals)\n",
    "print('physical failure rate:', fails/totals)\n",
    "print('standard deviation of physical failure rate:', math.sqrt(fails)/totals)"
   ]
  },
  {
   "cell_type": "code",
   "execution_count": null,
   "id": "44acc067-0cd3-40eb-8ed8-e7e79058df75",
   "metadata": {},
   "outputs": [],
   "source": []
  }
 ],
 "metadata": {
  "kernelspec": {
   "display_name": "Python 3 (ipykernel)",
   "language": "python",
   "name": "python3"
  },
  "language_info": {
   "codemirror_mode": {
    "name": "ipython",
    "version": 3
   },
   "file_extension": ".py",
   "mimetype": "text/x-python",
   "name": "python",
   "nbconvert_exporter": "python",
   "pygments_lexer": "ipython3",
   "version": "3.12.2"
  }
 },
 "nbformat": 4,
 "nbformat_minor": 5
}
